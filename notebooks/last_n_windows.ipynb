{
 "cells": [
  {
   "cell_type": "code",
   "execution_count": 40,
   "metadata": {},
   "outputs": [],
   "source": [
    "from fossa.utils import dummy_data"
   ]
  },
  {
   "cell_type": "code",
   "execution_count": 41,
   "metadata": {},
   "outputs": [],
   "source": [
    "MIN_VAL = 1000\n",
    "MAX_VAL = 1200\n",
    "NUM_CATEG = 3"
   ]
  },
  {
   "cell_type": "code",
   "execution_count": 42,
   "metadata": {},
   "outputs": [],
   "source": [
    "sorted_df = dummy_data(5, NUM_CATEG, MIN_VAL, MAX_VAL)"
   ]
  },
  {
   "cell_type": "code",
   "execution_count": 43,
   "metadata": {},
   "outputs": [
    {
     "data": {
      "text/html": [
       "<div>\n",
       "<style scoped>\n",
       "    .dataframe tbody tr th:only-of-type {\n",
       "        vertical-align: middle;\n",
       "    }\n",
       "\n",
       "    .dataframe tbody tr th {\n",
       "        vertical-align: top;\n",
       "    }\n",
       "\n",
       "    .dataframe thead th {\n",
       "        text-align: right;\n",
       "    }\n",
       "</style>\n",
       "<table border=\"1\" class=\"dataframe\">\n",
       "  <thead>\n",
       "    <tr style=\"text-align: right;\">\n",
       "      <th></th>\n",
       "      <th></th>\n",
       "      <th>value</th>\n",
       "    </tr>\n",
       "    <tr>\n",
       "      <th>date</th>\n",
       "      <th>category</th>\n",
       "      <th></th>\n",
       "    </tr>\n",
       "  </thead>\n",
       "  <tbody>\n",
       "    <tr>\n",
       "      <th rowspan=\"3\" valign=\"top\">2011-01-01</th>\n",
       "      <th>0</th>\n",
       "      <td>1037</td>\n",
       "    </tr>\n",
       "    <tr>\n",
       "      <th>1</th>\n",
       "      <td>1130</td>\n",
       "    </tr>\n",
       "    <tr>\n",
       "      <th>2</th>\n",
       "      <td>1062</td>\n",
       "    </tr>\n",
       "    <tr>\n",
       "      <th rowspan=\"3\" valign=\"top\">2011-01-02</th>\n",
       "      <th>0</th>\n",
       "      <td>1028</td>\n",
       "    </tr>\n",
       "    <tr>\n",
       "      <th>1</th>\n",
       "      <td>1049</td>\n",
       "    </tr>\n",
       "    <tr>\n",
       "      <th>2</th>\n",
       "      <td>1175</td>\n",
       "    </tr>\n",
       "    <tr>\n",
       "      <th rowspan=\"3\" valign=\"top\">2011-01-03</th>\n",
       "      <th>0</th>\n",
       "      <td>1139</td>\n",
       "    </tr>\n",
       "    <tr>\n",
       "      <th>1</th>\n",
       "      <td>1015</td>\n",
       "    </tr>\n",
       "    <tr>\n",
       "      <th>2</th>\n",
       "      <td>1121</td>\n",
       "    </tr>\n",
       "    <tr>\n",
       "      <th rowspan=\"3\" valign=\"top\">2011-01-04</th>\n",
       "      <th>0</th>\n",
       "      <td>1089</td>\n",
       "    </tr>\n",
       "    <tr>\n",
       "      <th>1</th>\n",
       "      <td>1084</td>\n",
       "    </tr>\n",
       "    <tr>\n",
       "      <th>2</th>\n",
       "      <td>1151</td>\n",
       "    </tr>\n",
       "    <tr>\n",
       "      <th rowspan=\"3\" valign=\"top\">2011-01-05</th>\n",
       "      <th>0</th>\n",
       "      <td>1121</td>\n",
       "    </tr>\n",
       "    <tr>\n",
       "      <th>1</th>\n",
       "      <td>1186</td>\n",
       "    </tr>\n",
       "    <tr>\n",
       "      <th>2</th>\n",
       "      <td>1035</td>\n",
       "    </tr>\n",
       "  </tbody>\n",
       "</table>\n",
       "</div>"
      ],
      "text/plain": [
       "                     value\n",
       "date       category       \n",
       "2011-01-01 0          1037\n",
       "           1          1130\n",
       "           2          1062\n",
       "2011-01-02 0          1028\n",
       "           1          1049\n",
       "           2          1175\n",
       "2011-01-03 0          1139\n",
       "           1          1015\n",
       "           2          1121\n",
       "2011-01-04 0          1089\n",
       "           1          1084\n",
       "           2          1151\n",
       "2011-01-05 0          1121\n",
       "           1          1186\n",
       "           2          1035"
      ]
     },
     "execution_count": 43,
     "metadata": {},
     "output_type": "execute_result"
    }
   ],
   "source": [
    "sorted_df"
   ]
  },
  {
   "cell_type": "code",
   "execution_count": 44,
   "metadata": {},
   "outputs": [],
   "source": [
    "from collections import deque"
   ]
  },
  {
   "cell_type": "code",
   "execution_count": 45,
   "metadata": {},
   "outputs": [],
   "source": [
    "N = 6"
   ]
  },
  {
   "cell_type": "code",
   "execution_count": 46,
   "metadata": {},
   "outputs": [],
   "source": [
    "committee = deque(maxlen=N)"
   ]
  },
  {
   "cell_type": "code",
   "execution_count": 47,
   "metadata": {},
   "outputs": [
    {
     "data": {
      "text/plain": [
       "deque([])"
      ]
     },
     "execution_count": 47,
     "metadata": {},
     "output_type": "execute_result"
    }
   ],
   "source": [
    "committee"
   ]
  },
  {
   "cell_type": "code",
   "execution_count": 48,
   "metadata": {},
   "outputs": [],
   "source": [
    "def add_window(dt_ix, window):\n",
    "    committee.append((dt_ix, window))"
   ]
  },
  {
   "cell_type": "code",
   "execution_count": 49,
   "metadata": {},
   "outputs": [],
   "source": [
    "last_n_windows_ix = sorted_df.index.levels[0][-N:]"
   ]
  },
  {
   "cell_type": "code",
   "execution_count": 50,
   "metadata": {},
   "outputs": [
    {
     "data": {
      "text/plain": [
       "DatetimeIndex(['2011-01-01', '2011-01-02', '2011-01-03', '2011-01-04',\n",
       "               '2011-01-05'],\n",
       "              dtype='datetime64[ns]', name='date', freq=None)"
      ]
     },
     "execution_count": 50,
     "metadata": {},
     "output_type": "execute_result"
    }
   ],
   "source": [
    "last_n_windows_ix"
   ]
  },
  {
   "cell_type": "code",
   "execution_count": 51,
   "metadata": {},
   "outputs": [
    {
     "name": "stdout",
     "output_type": "stream",
     "text": [
      "2011-01-01 00:00:00\n",
      "2011-01-02 00:00:00\n",
      "2011-01-03 00:00:00\n",
      "2011-01-04 00:00:00\n",
      "2011-01-05 00:00:00\n"
     ]
    }
   ],
   "source": [
    "for ix in last_n_windows_ix:\n",
    "    print(ix)\n",
    "    add_window(ix, sorted_df.loc[ix])"
   ]
  },
  {
   "cell_type": "code",
   "execution_count": 52,
   "metadata": {},
   "outputs": [
    {
     "data": {
      "text/plain": [
       "deque([(Timestamp('2011-01-01 00:00:00'),           value\n",
       "        category       \n",
       "        0          1037\n",
       "        1          1130\n",
       "        2          1062), (Timestamp('2011-01-02 00:00:00'),           value\n",
       "        category       \n",
       "        0          1028\n",
       "        1          1049\n",
       "        2          1175), (Timestamp('2011-01-03 00:00:00'),           value\n",
       "        category       \n",
       "        0          1139\n",
       "        1          1015\n",
       "        2          1121), (Timestamp('2011-01-04 00:00:00'),           value\n",
       "        category       \n",
       "        0          1089\n",
       "        1          1084\n",
       "        2          1151), (Timestamp('2011-01-05 00:00:00'),           value\n",
       "        category       \n",
       "        0          1121\n",
       "        1          1186\n",
       "        2          1035)])"
      ]
     },
     "execution_count": 52,
     "metadata": {},
     "output_type": "execute_result"
    }
   ],
   "source": [
    "committee"
   ]
  },
  {
   "cell_type": "code",
   "execution_count": 53,
   "metadata": {},
   "outputs": [
    {
     "data": {
      "text/html": [
       "<div>\n",
       "<style scoped>\n",
       "    .dataframe tbody tr th:only-of-type {\n",
       "        vertical-align: middle;\n",
       "    }\n",
       "\n",
       "    .dataframe tbody tr th {\n",
       "        vertical-align: top;\n",
       "    }\n",
       "\n",
       "    .dataframe thead th {\n",
       "        text-align: right;\n",
       "    }\n",
       "</style>\n",
       "<table border=\"1\" class=\"dataframe\">\n",
       "  <thead>\n",
       "    <tr style=\"text-align: right;\">\n",
       "      <th></th>\n",
       "      <th></th>\n",
       "      <th>value</th>\n",
       "    </tr>\n",
       "    <tr>\n",
       "      <th>date</th>\n",
       "      <th>category</th>\n",
       "      <th></th>\n",
       "    </tr>\n",
       "  </thead>\n",
       "  <tbody>\n",
       "    <tr>\n",
       "      <th rowspan=\"3\" valign=\"top\">2011-01-11</th>\n",
       "      <th>0</th>\n",
       "      <td>1007</td>\n",
       "    </tr>\n",
       "    <tr>\n",
       "      <th>1</th>\n",
       "      <td>1056</td>\n",
       "    </tr>\n",
       "    <tr>\n",
       "      <th>2</th>\n",
       "      <td>1102</td>\n",
       "    </tr>\n",
       "    <tr>\n",
       "      <th rowspan=\"3\" valign=\"top\">2011-01-12</th>\n",
       "      <th>0</th>\n",
       "      <td>1109</td>\n",
       "    </tr>\n",
       "    <tr>\n",
       "      <th>1</th>\n",
       "      <td>1064</td>\n",
       "    </tr>\n",
       "    <tr>\n",
       "      <th>2</th>\n",
       "      <td>1068</td>\n",
       "    </tr>\n",
       "  </tbody>\n",
       "</table>\n",
       "</div>"
      ],
      "text/plain": [
       "                     value\n",
       "date       category       \n",
       "2011-01-11 0          1007\n",
       "           1          1056\n",
       "           2          1102\n",
       "2011-01-12 0          1109\n",
       "           1          1064\n",
       "           2          1068"
      ]
     },
     "execution_count": 53,
     "metadata": {},
     "output_type": "execute_result"
    }
   ],
   "source": [
    "sorted_df2 = dummy_data(12, NUM_CATEG, MIN_VAL, MAX_VAL)\n",
    "sorted_df2.iloc[-6:]"
   ]
  },
  {
   "cell_type": "code",
   "execution_count": 54,
   "metadata": {},
   "outputs": [],
   "source": [
    "last_n_windows_ix2 = sorted_df2.index.levels[0][-N:]"
   ]
  },
  {
   "cell_type": "code",
   "execution_count": 55,
   "metadata": {},
   "outputs": [
    {
     "name": "stdout",
     "output_type": "stream",
     "text": [
      "2011-01-07 00:00:00\n",
      "2011-01-08 00:00:00\n",
      "2011-01-09 00:00:00\n",
      "2011-01-10 00:00:00\n",
      "2011-01-11 00:00:00\n",
      "2011-01-12 00:00:00\n"
     ]
    }
   ],
   "source": [
    "for ix in last_n_windows_ix2:\n",
    "    print(ix)\n",
    "    add_window(ix, sorted_df2.loc[ix])"
   ]
  },
  {
   "cell_type": "code",
   "execution_count": 56,
   "metadata": {},
   "outputs": [
    {
     "data": {
      "text/plain": [
       "deque([(Timestamp('2011-01-07 00:00:00'),           value\n",
       "        category       \n",
       "        0          1180\n",
       "        1          1176\n",
       "        2          1129), (Timestamp('2011-01-08 00:00:00'),           value\n",
       "        category       \n",
       "        0          1196\n",
       "        1          1105\n",
       "        2          1153), (Timestamp('2011-01-09 00:00:00'),           value\n",
       "        category       \n",
       "        0          1091\n",
       "        1          1121\n",
       "        2          1018), (Timestamp('2011-01-10 00:00:00'),           value\n",
       "        category       \n",
       "        0          1050\n",
       "        1          1061\n",
       "        2          1115), (Timestamp('2011-01-11 00:00:00'),           value\n",
       "        category       \n",
       "        0          1007\n",
       "        1          1056\n",
       "        2          1102), (Timestamp('2011-01-12 00:00:00'),           value\n",
       "        category       \n",
       "        0          1109\n",
       "        1          1064\n",
       "        2          1068)])"
      ]
     },
     "execution_count": 56,
     "metadata": {},
     "output_type": "execute_result"
    }
   ],
   "source": [
    "committee"
   ]
  },
  {
   "cell_type": "code",
   "execution_count": 62,
   "metadata": {},
   "outputs": [
    {
     "name": "stdout",
     "output_type": "stream",
     "text": [
      "2011-01-12 00:00:00\n",
      "          value\n",
      "category       \n",
      "0          1109\n",
      "1          1064\n",
      "2          1068\n",
      "2011-01-11 00:00:00\n",
      "          value\n",
      "category       \n",
      "0          1007\n",
      "1          1056\n",
      "2          1102\n",
      "2011-01-10 00:00:00\n",
      "          value\n",
      "category       \n",
      "0          1050\n",
      "1          1061\n",
      "2          1115\n",
      "2011-01-09 00:00:00\n",
      "          value\n",
      "category       \n",
      "0          1091\n",
      "1          1121\n",
      "2          1018\n",
      "2011-01-08 00:00:00\n",
      "          value\n",
      "category       \n",
      "0          1196\n",
      "1          1105\n",
      "2          1153\n",
      "2011-01-07 00:00:00\n",
      "          value\n",
      "category       \n",
      "0          1180\n",
      "1          1176\n",
      "2          1129\n"
     ]
    }
   ],
   "source": [
    "for dt, window in reversed(committee):\n",
    "    print(dt)\n",
    "    print(window)"
   ]
  },
  {
   "cell_type": "code",
   "execution_count": 65,
   "metadata": {},
   "outputs": [
    {
     "data": {
      "text/plain": [
       "True"
      ]
     },
     "execution_count": 65,
     "metadata": {},
     "output_type": "execute_result"
    }
   ],
   "source": [
    "callable(add_window)"
   ]
  },
  {
   "cell_type": "code",
   "execution_count": 69,
   "metadata": {},
   "outputs": [
    {
     "name": "stdout",
     "output_type": "stream",
     "text": [
      "2\n",
      "2011-01-12 00:00:00\n",
      "          value\n",
      "category       \n",
      "0          1109\n",
      "1          1064\n",
      "2          1068\n",
      "5\n",
      "2011-01-11 00:00:00\n",
      "          value\n",
      "category       \n",
      "0          1007\n",
      "1          1056\n",
      "2          1102\n",
      "9\n",
      "2011-01-10 00:00:00\n",
      "          value\n",
      "category       \n",
      "0          1050\n",
      "1          1061\n",
      "2          1115\n",
      "4\n",
      "2011-01-09 00:00:00\n",
      "          value\n",
      "category       \n",
      "0          1091\n",
      "1          1121\n",
      "2          1018\n",
      "1\n",
      "2011-01-08 00:00:00\n",
      "          value\n",
      "category       \n",
      "0          1196\n",
      "1          1105\n",
      "2          1153\n",
      "8\n",
      "2011-01-07 00:00:00\n",
      "          value\n",
      "category       \n",
      "0          1180\n",
      "1          1176\n",
      "2          1129\n"
     ]
    }
   ],
   "source": [
    "for weight, x in zip([2, 5, 9, 4, 1, 8], reversed(committee)):\n",
    "    print(weight)\n",
    "    dt, window = x\n",
    "    print(dt)\n",
    "    print(window)"
   ]
  },
  {
   "cell_type": "code",
   "execution_count": null,
   "metadata": {},
   "outputs": [],
   "source": []
  }
 ],
 "metadata": {
  "kernelspec": {
   "display_name": "Python 3",
   "language": "python",
   "name": "python3"
  },
  "language_info": {
   "codemirror_mode": {
    "name": "ipython",
    "version": 3
   },
   "file_extension": ".py",
   "mimetype": "text/x-python",
   "name": "python",
   "nbconvert_exporter": "python",
   "pygments_lexer": "ipython3",
   "version": "3.6.4"
  }
 },
 "nbformat": 4,
 "nbformat_minor": 2
}
